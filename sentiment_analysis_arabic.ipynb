{
  "nbformat": 4,
  "nbformat_minor": 0,
  "metadata": {
    "colab": {
      "name": "sentiment-analysis-arabic.ipynb",
      "provenance": []
    },
    "kernelspec": {
      "display_name": "Python 3",
      "name": "python3"
    }
  },
  "cells": [
    {
      "cell_type": "markdown",
      "metadata": {
        "id": "zsBb9nWtJsbE"
      },
      "source": [
        "**Démenstration**"
      ]
    },
    {
      "cell_type": "code",
      "metadata": {
        "id": "DLW4yU50hJGR"
      },
      "source": [
        "# Import Packages\n",
        "import os\n",
        "import re\n",
        "import pickle\n",
        "import numpy as np\n",
        "import pandas as pd\n",
        "\n",
        "from sklearn.model_selection import train_test_split\n",
        "from sklearn.metrics import accuracy_score\n",
        "\n",
        "from keras.preprocessing.text import Tokenizer\n",
        "from keras.preprocessing.sequence import pad_sequences\n",
        "from keras.models import Sequential\n",
        "from keras import layers\n",
        "from keras.backend import clear_session"
      ],
      "execution_count": null,
      "outputs": []
    },
    {
      "cell_type": "markdown",
      "metadata": {
        "id": "1H8o7qNOKp21"
      },
      "source": [
        "**Preprocessing**"
      ]
    },
    {
      "cell_type": "code",
      "metadata": {
        "id": "iYiBKJV2hTaP"
      },
      "source": [
        "def clean_text(text):  \n",
        "  \n",
        "    search = [\"أ\",\"إ\",\"آ\",\"ة\",\"_\",\"-\",\"/\",\".\",\"،\",\" و \",\" يا \",'\"',\"ـ\",\"'\",\"ى\",\n",
        "              \"\\\\\",'\\n', '\\t','&quot;','?','؟','!']\n",
        "    replace = [\"ا\",\"ا\",\"ا\",\"ه\",\" \",\" \",\"\",\"\",\"\",\" و\",\" يا\",\n",
        "               \"\",\"\",\"\",\"ي\",\"\",' ', ' ',' ',' ? ',' ؟ ', ' ! ']\n",
        "    \n",
        "    tashkeel = re.compile(r'[\\u0617-\\u061A\\u064B-\\u0652]')\n",
        "    text = re.sub(tashkeel,\"\", text)\n",
        "    \n",
        "    longation = re.compile(r'(.)\\1+')\n",
        "    subst = r\"\\1\\1\"\n",
        "    text = re.sub(longation, subst, text)\n",
        "    \n",
        "    text = re.sub(r\"[^\\w\\s]\", '', text)\n",
        "    text = re.sub(r\"[a-zA-Z]\", '', text)\n",
        "    text = re.sub(r\"\\d+\", ' ', text)\n",
        "    text = re.sub(r\"\\n+\", ' ', text)\n",
        "    text = re.sub(r\"\\t+\", ' ', text)\n",
        "    text = re.sub(r\"\\r+\", ' ', text)\n",
        "    text = re.sub(r\"\\s+\", ' ', text)\n",
        "    text = text.replace('وو', 'و')\n",
        "    text = text.replace('يي', 'ي')\n",
        "    text = text.replace('اا', 'ا')\n",
        "    \n",
        "    for i in range(0, len(search)):\n",
        "        text = text.replace(search[i], replace[i])\n",
        "    \n",
        "    text = text.strip()\n",
        "    \n",
        "    return text\n",
        "\n"
      ],
      "execution_count": null,
      "outputs": []
    },
    {
      "cell_type": "code",
      "metadata": {
        "colab": {
          "base_uri": "https://localhost:8080/",
          "height": 207
        },
        "id": "EKtzQgpThaQf",
        "outputId": "2dab6437-a559-4aa0-8792-57fe89825a4a"
      },
      "source": [
        "data = pd.read_csv('/content/dataset.csv', encoding = 'utf-8')\n",
        "data.head()"
      ],
      "execution_count": null,
      "outputs": [
        {
          "output_type": "execute_result",
          "data": {
            "text/html": [
              "<div>\n",
              "<style scoped>\n",
              "    .dataframe tbody tr th:only-of-type {\n",
              "        vertical-align: middle;\n",
              "    }\n",
              "\n",
              "    .dataframe tbody tr th {\n",
              "        vertical-align: top;\n",
              "    }\n",
              "\n",
              "    .dataframe thead th {\n",
              "        text-align: right;\n",
              "    }\n",
              "</style>\n",
              "<table border=\"1\" class=\"dataframe\">\n",
              "  <thead>\n",
              "    <tr style=\"text-align: right;\">\n",
              "      <th></th>\n",
              "      <th>text</th>\n",
              "      <th>polarity</th>\n",
              "    </tr>\n",
              "  </thead>\n",
              "  <tbody>\n",
              "    <tr>\n",
              "      <th>0</th>\n",
              "      <td>المكان الذي يمكنك فيه مراجعة الذات والتفكر هو ...</td>\n",
              "      <td>1</td>\n",
              "    </tr>\n",
              "    <tr>\n",
              "      <th>1</th>\n",
              "      <td>موقع رائع وحديقة رائعة ويستحق نجمةّ إضافية  \\n...</td>\n",
              "      <td>0</td>\n",
              "    </tr>\n",
              "    <tr>\n",
              "      <th>2</th>\n",
              "      <td>أسوأ فندق أقمت فيه على الإطلاق  \\nيستغرق تسجيل...</td>\n",
              "      <td>-1</td>\n",
              "    </tr>\n",
              "    <tr>\n",
              "      <th>3</th>\n",
              "      <td>بدون روح كأنه فندق ثلاثة نجوم  \\nبدون إدارة اح...</td>\n",
              "      <td>0</td>\n",
              "    </tr>\n",
              "    <tr>\n",
              "      <th>4</th>\n",
              "      <td>فندق جميل مع سوء الإدارة والخدمات.  \\nمن الخار...</td>\n",
              "      <td>-1</td>\n",
              "    </tr>\n",
              "  </tbody>\n",
              "</table>\n",
              "</div>"
            ],
            "text/plain": [
              "                                                text  polarity\n",
              "0  المكان الذي يمكنك فيه مراجعة الذات والتفكر هو ...         1\n",
              "1  موقع رائع وحديقة رائعة ويستحق نجمةّ إضافية  \\n...         0\n",
              "2  أسوأ فندق أقمت فيه على الإطلاق  \\nيستغرق تسجيل...        -1\n",
              "3  بدون روح كأنه فندق ثلاثة نجوم  \\nبدون إدارة اح...         0\n",
              "4  فندق جميل مع سوء الإدارة والخدمات.  \\nمن الخار...        -1"
            ]
          },
          "metadata": {
            "tags": []
          },
          "execution_count": 6
        }
      ]
    },
    {
      "cell_type": "code",
      "metadata": {
        "colab": {
          "base_uri": "https://localhost:8080/"
        },
        "id": "ACBUfNTDhaVx",
        "outputId": "b0e05414-9fe8-412f-dd7a-fc3f515bbe05"
      },
      "source": [
        "data.sum().isnull()"
      ],
      "execution_count": null,
      "outputs": [
        {
          "output_type": "execute_result",
          "data": {
            "text/plain": [
              "text        False\n",
              "polarity    False\n",
              "dtype: bool"
            ]
          },
          "metadata": {
            "tags": []
          },
          "execution_count": 10
        }
      ]
    },
    {
      "cell_type": "markdown",
      "metadata": {
        "id": "wAS-a_DNK-l1"
      },
      "source": [
        "**N'incluez que les snetiments positifs et négatifs:**"
      ]
    },
    {
      "cell_type": "code",
      "metadata": {
        "id": "Elf6rdbvhaY0"
      },
      "source": [
        "data = data[data.polarity.isin([-1, 1])]"
      ],
      "execution_count": null,
      "outputs": []
    },
    {
      "cell_type": "markdown",
      "metadata": {
        "id": "j6LbMY66LKih"
      },
      "source": [
        "Appliquer le Preprocessing pour la preparation et nettoyage du texte:"
      ]
    },
    {
      "cell_type": "code",
      "metadata": {
        "id": "kRpjR8iChabR"
      },
      "source": [
        "data['cleaned_text'] = data.text.apply(clean_text)"
      ],
      "execution_count": null,
      "outputs": []
    },
    {
      "cell_type": "code",
      "metadata": {
        "colab": {
          "base_uri": "https://localhost:8080/",
          "height": 144
        },
        "id": "wAHwrjRVhad4",
        "outputId": "aafee03c-7ff0-4899-c8e7-5b248198492b"
      },
      "source": [
        "data = data[data.cleaned_text != \"\"]\n",
        "data.head(3)"
      ],
      "execution_count": null,
      "outputs": [
        {
          "output_type": "execute_result",
          "data": {
            "text/html": [
              "<div>\n",
              "<style scoped>\n",
              "    .dataframe tbody tr th:only-of-type {\n",
              "        vertical-align: middle;\n",
              "    }\n",
              "\n",
              "    .dataframe tbody tr th {\n",
              "        vertical-align: top;\n",
              "    }\n",
              "\n",
              "    .dataframe thead th {\n",
              "        text-align: right;\n",
              "    }\n",
              "</style>\n",
              "<table border=\"1\" class=\"dataframe\">\n",
              "  <thead>\n",
              "    <tr style=\"text-align: right;\">\n",
              "      <th></th>\n",
              "      <th>text</th>\n",
              "      <th>polarity</th>\n",
              "      <th>cleaned_text</th>\n",
              "    </tr>\n",
              "  </thead>\n",
              "  <tbody>\n",
              "    <tr>\n",
              "      <th>0</th>\n",
              "      <td>المكان الذي يمكنك فيه مراجعة الذات والتفكر هو ...</td>\n",
              "      <td>1</td>\n",
              "      <td>المكان الذي يمكنك فيه مراجعه الذات والتفكر هو ...</td>\n",
              "    </tr>\n",
              "    <tr>\n",
              "      <th>2</th>\n",
              "      <td>أسوأ فندق أقمت فيه على الإطلاق  \\nيستغرق تسجيل...</td>\n",
              "      <td>-1</td>\n",
              "      <td>اسوا فندق اقمت فيه علي الاطلاق يستغرق تسجيل ال...</td>\n",
              "    </tr>\n",
              "    <tr>\n",
              "      <th>4</th>\n",
              "      <td>فندق جميل مع سوء الإدارة والخدمات.  \\nمن الخار...</td>\n",
              "      <td>-1</td>\n",
              "      <td>فندق جميل مع سوء الاداره والخدمات من الخارج بد...</td>\n",
              "    </tr>\n",
              "  </tbody>\n",
              "</table>\n",
              "</div>"
            ],
            "text/plain": [
              "                                                text  ...                                       cleaned_text\n",
              "0  المكان الذي يمكنك فيه مراجعة الذات والتفكر هو ...  ...  المكان الذي يمكنك فيه مراجعه الذات والتفكر هو ...\n",
              "2  أسوأ فندق أقمت فيه على الإطلاق  \\nيستغرق تسجيل...  ...  اسوا فندق اقمت فيه علي الاطلاق يستغرق تسجيل ال...\n",
              "4  فندق جميل مع سوء الإدارة والخدمات.  \\nمن الخار...  ...  فندق جميل مع سوء الاداره والخدمات من الخارج بد...\n",
              "\n",
              "[3 rows x 3 columns]"
            ]
          },
          "metadata": {
            "tags": []
          },
          "execution_count": 14
        }
      ]
    },
    {
      "cell_type": "markdown",
      "metadata": {
        "id": "wy9FHSp2LqTW"
      },
      "source": [
        "**Équilibrer les données d'entrée**"
      ]
    },
    {
      "cell_type": "code",
      "metadata": {
        "colab": {
          "base_uri": "https://localhost:8080/",
          "height": 144
        },
        "id": "uf5FiZEajXG6",
        "outputId": "6e5e1d99-7322-49e6-a08f-c38964011941"
      },
      "source": [
        "min_sample = data.groupby(['polarity']).count().text.min()\n",
        "input_data = pd.concat([data[data.polarity == 1].head(min_sample), \n",
        "                        data[data.polarity == -1].head(min_sample)])\n",
        "input_data.groupby(['polarity']).count()"
      ],
      "execution_count": null,
      "outputs": [
        {
          "output_type": "execute_result",
          "data": {
            "text/html": [
              "<div>\n",
              "<style scoped>\n",
              "    .dataframe tbody tr th:only-of-type {\n",
              "        vertical-align: middle;\n",
              "    }\n",
              "\n",
              "    .dataframe tbody tr th {\n",
              "        vertical-align: top;\n",
              "    }\n",
              "\n",
              "    .dataframe thead th {\n",
              "        text-align: right;\n",
              "    }\n",
              "</style>\n",
              "<table border=\"1\" class=\"dataframe\">\n",
              "  <thead>\n",
              "    <tr style=\"text-align: right;\">\n",
              "      <th></th>\n",
              "      <th>text</th>\n",
              "      <th>cleaned_text</th>\n",
              "    </tr>\n",
              "    <tr>\n",
              "      <th>polarity</th>\n",
              "      <th></th>\n",
              "      <th></th>\n",
              "    </tr>\n",
              "  </thead>\n",
              "  <tbody>\n",
              "    <tr>\n",
              "      <th>-1</th>\n",
              "      <td>2645</td>\n",
              "      <td>2645</td>\n",
              "    </tr>\n",
              "    <tr>\n",
              "      <th>1</th>\n",
              "      <td>2645</td>\n",
              "      <td>2645</td>\n",
              "    </tr>\n",
              "  </tbody>\n",
              "</table>\n",
              "</div>"
            ],
            "text/plain": [
              "          text  cleaned_text\n",
              "polarity                    \n",
              "-1        2645          2645\n",
              " 1        2645          2645"
            ]
          },
          "metadata": {
            "tags": []
          },
          "execution_count": 15
        }
      ]
    },
    {
      "cell_type": "code",
      "metadata": {
        "id": "xmIyepPEjtjR"
      },
      "source": [
        "X = input_data.cleaned_text.values"
      ],
      "execution_count": null,
      "outputs": []
    },
    {
      "cell_type": "code",
      "metadata": {
        "colab": {
          "base_uri": "https://localhost:8080/"
        },
        "id": "BXBp2jLNjy_L",
        "outputId": "66ed92be-46ba-4484-e1ca-69f8f089c7c5"
      },
      "source": [
        "X"
      ],
      "execution_count": null,
      "outputs": [
        {
          "output_type": "execute_result",
          "data": {
            "text/plain": [
              "array(['المكان الذي يمكنك فيه مراجعه الذات والتفكر هو كوكروبيت غانا ثمه الكثير عند زياره غانا وعلي الرغم من الفقر الذي سوف تلاحظه علي طريقك الي بيغ ميلي باكيارد وجدت ان الناس في غانا يملكون ثراء القلب حتي رغم العوز بيغ ميلي باكيارد هو مكان يمكنني فيه مراجعه الذات والتفكر التقيت اشخاصا كانوا يعملون علي مبادرات مختلفه بيغ ميلي هو مكان يمكننا فيه تبادل الملاحظات والاراء بيغ ميلي مليء بالسلام وهادئ للغايه الطعام ممتاز جدا الطهاه ممتازون وبالاضافه الي ذلك لا بد من الاشاره الي ان العمال الذين لا يكلون ويحرصون علي سعاده نزلائهم هم من يجعلون المكان مضيافا هناك خيبه امل واحده كبيره رغم ان الفنون والاشغال اليدويه يمكن شراؤها في الموقع الا ان الاسعار غاليه مؤخرا ازالت السلطات في كوكروبيت محلات التجار الواقعه خارج شاطئ بيغ ميلي كانت منتجات التجار ارخص لا يزال هناك محل تجاري متجر مايسترو للفن الافريقي في كوكروبيت يعرض الفنون والاشغال اليدويه الفريده والملابس واللوحات اشتريت لوحات مذهله لايمكنك ان تجدها في بيغ ميلي عندما تزور بيغ ميلي من فضلك خذ لحظه للذهاب الي الشاطئ وعلي يمينك ستجد متجر مايسترو للفن الافريقي المذهل لا تنخدع باسعار التجار في بيغ ميلي باكيارد استمتع بالموسيقي والناس الرجاء ان تقضي وقتا ممتعا',\n",
              "       'فندق جميل منظر رائع من بركه السباحه علي السطح فندق جميل ديكور مريح جدا طاقم عمل ودود اسره مريحه موقع رائع وبركه سباحه جميله وشرفه علي السطح للاستمتاع بالمناظر الافطار رائع ايضا مع الكثير من الكعك احب ان اعود قريبا',\n",
              "       'مكان لطيف وهادئ بعيدا عن الزحام عثرت علي هذا المكان عن طريق موقع تريب ادفايزور ومره اخري كان جيدا وفندق في اي بي اكسيكوتيف هو واحد من فنادق كبار الشخصيات العديده في هذه المنطقه وتمت ترقيه غرفتي عند وصولي الغرفه واسعه جدا مع ثلاجه صغيره ونافذه تفتح علي هواء منعش ويوجد مكيف هواء وهو يقع خارج ساحه ماركيز بومبال وهو ما يجعله علي بعد مسافه قصيره بالمترو من جميع الانشطه القائمون علي العنايه بالغرف قاموا بعمل عظيم كان فريق العمل ودودا ومتعاونا استنادا الي التعليقات الموجوده علي موقع تريب ادفايزر لم اتناول الافطار هناك يورو ومشيت الي المقهي الموجود بالقرب من محطه المترو حيث حصلت علي معجنات رائعه وقهوه حليب طازجه مقابل يورو يوجد مجفف شعر بالغرفه لا توجد ساعه يوجد العديد من ملصقات كاندينسكي المستخدمه في الاعمال الفنيه الستائر جيده وقد كانت تحجب الضوء بقماش شفاف ابيض حي جيد به عاملون وبعض الفنادق توجد العديد من محلات الازياء بالجوار وكذلك بين الحديقه ومحطه مترو افينيدا خدمه الانترنت الدفع فيها حسب الاستخدام وتكلفه ساعه من استخدام الانترنت هي يورو',\n",
              "       ...,\n",
              "       'موظفون بشعون وغرفه بشعه انج بنفسك ابتعد ياالهي ابتعد اكثر ما يميز هذا المكان هو الوقاحه التي تصل الي اقصي الحدود بشع العاملون في هذا الفندق شخصان علي وجه التحديد والذين ليسوا من اصول سويديه وانا اؤكد علي هذا لان السويدين الاصلين هم اناس محترمون نعم السويديون اناس رائعون ومن الواضح ان هذين الشخصين جلبا معهما عاداتهما السيئه من بلادهم وليس لديهم ادني فكره عن كيفيه معامله الناس القادمين من ثقافات متحضره ومثقفه لقد كانوا مقززين وتكلموا بوقاحه لا تقيم في هذا الفندق وقاحه الموظفين بما في ذلك ما يسمي بالاداره غرفه النوم السريع عباره عن نصب واحتيال يفرضون رسوما علي استخدام الانترنت وهذا نصب يشاركك شخص اخر الحمام وتدفع دولارا في الليله نعم انه جنون الغرفه فعليا تجعلك بمجرد ان تفتح الباب تقع علي السرير ان الاقامه هناك كابوس لا تقيم في هذا الفندق لانك سوف تتحطم انني افضل النوم علي مقعد خشبي في حديقه سنترال بارك بدلا من الاقامه في هذا المبني الرخيص ياالله',\n",
              "       'رخيص وسيئ السجن هو الكلمه التي تتبادر الي الذهن فقط اعلن عنه علي انه فندق ولكنه نزل شباب انه رخيص لستوكهولم وموقعه جيد ولكن الفندق الفعلي مريع وكدنا ان نغادر لا تقيموا هنا ولا ازال اشعر بالحكه بعد شهر بسبب الحشرات',\n",
              "       'احقر مكان علي وجه الارض انصح كل الذين يقومون بتصفح الفنادق عبر الانترنت بالتروي في الاختيار فهذا المكان هو احقر ما وجدت في المغرب فهو بعيد جدا عن مراكش وسط الزراعات والادغال ولاتوجد خدمه بالداخل ولا يوجد انترنت والتواليتات الخاصه بالغرف لا تعمل بشكل سليم ومسدوده والافطار عباره عن بيضه مسلوقه وقطعه من الجبن مع قليل من المربي والزبد البلدي والخبز اما الغداء والعشاء فالله كان بالسر عليم فلقد ندمنا علي ما فعلنا وايضا وجدنا التواليت مسدود وعندما طلبنا تغيره قالو لنا بانهم قامو بدفع مبلغ من اجل اصلاحه فهل نحن ملتزمون بتصليح التواليت ناهيك عن المكان الموجود به الفندق انه ليس فندق وانما هو قبر وسط الزراعات حيث لا حياه ولا بشر وهذا للامانه احببت ان انصح به غيري'],\n",
              "      dtype=object)"
            ]
          },
          "metadata": {
            "tags": []
          },
          "execution_count": 17
        }
      ]
    },
    {
      "cell_type": "code",
      "metadata": {
        "id": "rVI5fNNmj0pl"
      },
      "source": [
        "Y = np.asarray(input_data.polarity.values).astype('float32')\n",
        "Y = Y.clip(0, 1)"
      ],
      "execution_count": null,
      "outputs": []
    },
    {
      "cell_type": "code",
      "metadata": {
        "colab": {
          "base_uri": "https://localhost:8080/"
        },
        "id": "p6XkxEwHj_bq",
        "outputId": "aa38c0cc-66fe-4376-b2f4-9a7a81065820"
      },
      "source": [
        "Y"
      ],
      "execution_count": null,
      "outputs": [
        {
          "output_type": "execute_result",
          "data": {
            "text/plain": [
              "array([1., 1., 1., ..., 0., 0., 0.], dtype=float32)"
            ]
          },
          "metadata": {
            "tags": []
          },
          "execution_count": 33
        }
      ]
    },
    {
      "cell_type": "markdown",
      "metadata": {
        "id": "OH-Pv-TMMBKZ"
      },
      "source": [
        "**Créer des séquences**"
      ]
    },
    {
      "cell_type": "code",
      "metadata": {
        "colab": {
          "base_uri": "https://localhost:8080/"
        },
        "id": "LJohc_9bkAjv",
        "outputId": "bd8e255b-1cda-4760-be9f-3ad6d58fb9aa"
      },
      "source": [
        "num_words = 10000\n",
        "embedding_dim = 100\n",
        "tokenizer = Tokenizer(num_words=num_words)\n",
        "tokenizer.fit_on_texts(X)\n",
        "\n",
        "X = tokenizer.texts_to_sequences(X)\n",
        "\n",
        "vocab_size = len(tokenizer.word_index) + 1\n",
        "print(\"vocab size:\", vocab_size)\n",
        "\n"
      ],
      "execution_count": null,
      "outputs": [
        {
          "output_type": "stream",
          "text": [
            "vocab size: 48682\n"
          ],
          "name": "stdout"
        }
      ]
    },
    {
      "cell_type": "code",
      "metadata": {
        "id": "dxYqpkQjkuga"
      },
      "source": [
        "maxlen = 300 #Maximum number of words in a sequence\n",
        "X = pad_sequences(X, padding='post', maxlen=maxlen)"
      ],
      "execution_count": null,
      "outputs": []
    },
    {
      "cell_type": "code",
      "metadata": {
        "id": "tp4PXVCIlTc5"
      },
      "source": [
        "seed = 42\n",
        "X_train, X_test, label_train, label_test = train_test_split(X, Y, test_size=0.3,\n",
        "                                                            random_state=seed)"
      ],
      "execution_count": null,
      "outputs": []
    },
    {
      "cell_type": "code",
      "metadata": {
        "colab": {
          "base_uri": "https://localhost:8080/"
        },
        "id": "cyaSigmVlTgK",
        "outputId": "d242f2a9-6019-4d66-f1e6-295aa01893f4"
      },
      "source": [
        "print(\"Training:\", len(X_train), len(label_train))\n",
        "print(\"Testing: \", len(X_test), len(label_test))"
      ],
      "execution_count": null,
      "outputs": [
        {
          "output_type": "stream",
          "text": [
            "Training: 3703 3703\n",
            "Testing:  1587 1587\n"
          ],
          "name": "stdout"
        }
      ]
    },
    {
      "cell_type": "code",
      "metadata": {
        "id": "oszt5KUr2ZtK",
        "colab": {
          "base_uri": "https://localhost:8080/"
        },
        "outputId": "2fb1b8d1-813e-4801-e7c5-b89e28bd8f00"
      },
      "source": [
        "from keras.layers import Embedding, Conv1D, GlobalMaxPooling1D, Dense\n",
        "cnn_model = Sequential()\n",
        "embedding_layer =Embedding(input_dim=num_words, \n",
        "                           output_dim=embedding_dim, \n",
        "                           input_length=maxlen)\n",
        "cnn_model.add(embedding_layer)\n",
        "cnn_model.add(Conv1D(128, 5, activation='relu'))\n",
        "cnn_model.add(GlobalMaxPooling1D())\n",
        "#cnn_model.add(GlobalMaxPooling1D())\n",
        "cnn_model.add(Dense(1, activation='sigmoid'))\n",
        "cnn_history = cnn_model.compile(optimizer='nadam', loss='binary_crossentropy', metrics=['acc'])\n",
        "cnn_model.summary()"
      ],
      "execution_count": null,
      "outputs": [
        {
          "output_type": "stream",
          "text": [
            "Model: \"sequential\"\n",
            "_________________________________________________________________\n",
            "Layer (type)                 Output Shape              Param #   \n",
            "=================================================================\n",
            "embedding (Embedding)        (None, 300, 100)          1000000   \n",
            "_________________________________________________________________\n",
            "conv1d (Conv1D)              (None, 296, 128)          64128     \n",
            "_________________________________________________________________\n",
            "global_max_pooling1d (Global (None, 128)               0         \n",
            "_________________________________________________________________\n",
            "dense (Dense)                (None, 1)                 129       \n",
            "=================================================================\n",
            "Total params: 1,064,257\n",
            "Trainable params: 1,064,257\n",
            "Non-trainable params: 0\n",
            "_________________________________________________________________\n"
          ],
          "name": "stdout"
        }
      ]
    },
    {
      "cell_type": "code",
      "metadata": {
        "colab": {
          "base_uri": "https://localhost:8080/"
        },
        "id": "t-RBic-LnoCi",
        "outputId": "51b5711f-27ee-433c-f2b9-18473dd4fd30"
      },
      "source": [
        "history = cnn_model.fit(X_train, label_train,\n",
        "                    epochs=4,\n",
        "                    verbose=True,\n",
        "                    validation_data=(X_test, label_test),\n",
        "                    batch_size=64)\n"
      ],
      "execution_count": null,
      "outputs": [
        {
          "output_type": "stream",
          "text": [
            "Epoch 1/4\n",
            "58/58 [==============================] - 10s 157ms/step - loss: 0.6707 - acc: 0.6319 - val_loss: 0.4210 - val_acc: 0.8765\n",
            "Epoch 2/4\n",
            "58/58 [==============================] - 9s 153ms/step - loss: 0.3275 - acc: 0.8914 - val_loss: 0.2368 - val_acc: 0.9036\n",
            "Epoch 3/4\n",
            "58/58 [==============================] - 9s 151ms/step - loss: 0.1340 - acc: 0.9618 - val_loss: 0.2052 - val_acc: 0.9181\n",
            "Epoch 4/4\n",
            "58/58 [==============================] - 9s 152ms/step - loss: 0.0644 - acc: 0.9860 - val_loss: 0.2040 - val_acc: 0.9200\n"
          ],
          "name": "stdout"
        }
      ]
    },
    {
      "cell_type": "code",
      "metadata": {
        "colab": {
          "base_uri": "https://localhost:8080/"
        },
        "id": "PSgrGsby2wQU",
        "outputId": "0714eb90-33ee-4391-94ca-9df40d800361"
      },
      "source": [
        "loss, accuracy = cnn_model.evaluate(X_train, label_train, verbose=True)\n",
        "print(\"Training Accuracy: {:.4f}\".format(accuracy))\n",
        "loss_val, accuracy_val = cnn_model.evaluate(X_test, label_test, verbose=True)\n",
        "print(\"Testing Accuracy:  {:.4f}\".format(accuracy_val))"
      ],
      "execution_count": null,
      "outputs": [
        {
          "output_type": "stream",
          "text": [
            "116/116 [==============================] - 2s 16ms/step - loss: 0.0280 - acc: 0.9970\n",
            "Training Accuracy: 0.9970\n",
            "50/50 [==============================] - 1s 16ms/step - loss: 0.2040 - acc: 0.9200\n",
            "Testing Accuracy:  0.9200\n"
          ],
          "name": "stdout"
        }
      ]
    },
    {
      "cell_type": "code",
      "metadata": {
        "colab": {
          "base_uri": "https://localhost:8080/"
        },
        "id": "wsO6b7Pp3P_d",
        "outputId": "bf86d70c-bd21-44ba-a999-68f726834faf"
      },
      "source": [
        "loss_val, accuracy_val = cnn_model.evaluate(X_test, label_test, verbose=True)\n",
        "print(\"Testing Accuracy:  {:.4f}\".format(accuracy_val))"
      ],
      "execution_count": null,
      "outputs": [
        {
          "output_type": "stream",
          "text": [
            "50/50 [==============================] - 1s 16ms/step - loss: 0.2040 - acc: 0.9200\n",
            "Testing Accuracy:  0.9200\n"
          ],
          "name": "stdout"
        }
      ]
    },
    {
      "cell_type": "code",
      "metadata": {
        "id": "P6uwWEm-o41f"
      },
      "source": [
        "from keras.layers import GRU\n",
        "from keras.optimizers import Adam\n",
        "gru_model = Sequential()\n",
        "embedding_size = 8\n",
        "gru_model.add(Embedding(input_dim=num_words,\n",
        "                    output_dim=embedding_dim,\n",
        "                    input_length=maxlen,\n",
        "                    name='layer_embedding'))\n",
        "gru_model.add(GRU(units=16, return_sequences=True))\n",
        "gru_model.add(GRU(units=8, return_sequences=True))\n",
        "gru_model.add(GRU(units=4))\n",
        "gru_model.add(Dense(1, activation='sigmoid'))"
      ],
      "execution_count": null,
      "outputs": []
    },
    {
      "cell_type": "code",
      "metadata": {
        "id": "MmlZDx2wpVCG"
      },
      "source": [
        "optimizer = Adam(lr=1e-3)"
      ],
      "execution_count": null,
      "outputs": []
    },
    {
      "cell_type": "code",
      "metadata": {
        "id": "1w42Fowxpb4W"
      },
      "source": [
        "gru_model.compile(loss='binary_crossentropy',\n",
        "              optimizer=optimizer,\n",
        "              metrics=['accuracy'])"
      ],
      "execution_count": null,
      "outputs": []
    },
    {
      "cell_type": "code",
      "metadata": {
        "colab": {
          "base_uri": "https://localhost:8080/"
        },
        "id": "PznTTm2HpiJ_",
        "outputId": "01dfbbfc-eff6-4eed-d86e-701d90f38587"
      },
      "source": [
        "gru_model.summary()"
      ],
      "execution_count": null,
      "outputs": [
        {
          "output_type": "stream",
          "text": [
            "Model: \"sequential_1\"\n",
            "_________________________________________________________________\n",
            "Layer (type)                 Output Shape              Param #   \n",
            "=================================================================\n",
            "layer_embedding (Embedding)  (None, 300, 100)          1000000   \n",
            "_________________________________________________________________\n",
            "gru (GRU)                    (None, 300, 16)           5664      \n",
            "_________________________________________________________________\n",
            "gru_1 (GRU)                  (None, 300, 8)            624       \n",
            "_________________________________________________________________\n",
            "gru_2 (GRU)                  (None, 4)                 168       \n",
            "_________________________________________________________________\n",
            "dense_1 (Dense)              (None, 1)                 5         \n",
            "=================================================================\n",
            "Total params: 1,006,461\n",
            "Trainable params: 1,006,461\n",
            "Non-trainable params: 0\n",
            "_________________________________________________________________\n"
          ],
          "name": "stdout"
        }
      ]
    },
    {
      "cell_type": "code",
      "metadata": {
        "colab": {
          "base_uri": "https://localhost:8080/"
        },
        "id": "Nz4CcW51pm75",
        "outputId": "d1644533-d689-4cab-e971-47a575d08a9b"
      },
      "source": [
        "gru_hist = gru_model.fit(X_train, label_train, batch_size=128, epochs=20, verbose=1, validation_split=0.2)\n"
      ],
      "execution_count": null,
      "outputs": [
        {
          "output_type": "stream",
          "text": [
            "Epoch 1/20\n",
            "24/24 [==============================] - 16s 455ms/step - loss: 0.6936 - accuracy: 0.5010 - val_loss: 0.6932 - val_accuracy: 0.4710\n",
            "Epoch 2/20\n",
            "24/24 [==============================] - 10s 427ms/step - loss: 0.6930 - accuracy: 0.5039 - val_loss: 0.6947 - val_accuracy: 0.4696\n",
            "Epoch 3/20\n",
            "24/24 [==============================] - 10s 424ms/step - loss: 0.6928 - accuracy: 0.5134 - val_loss: 0.6933 - val_accuracy: 0.4710\n",
            "Epoch 4/20\n",
            "24/24 [==============================] - 10s 418ms/step - loss: 0.6931 - accuracy: 0.4916 - val_loss: 0.6930 - val_accuracy: 0.5331\n",
            "Epoch 5/20\n",
            "24/24 [==============================] - 10s 420ms/step - loss: 0.6929 - accuracy: 0.5054 - val_loss: 0.6949 - val_accuracy: 0.4710\n",
            "Epoch 6/20\n",
            "24/24 [==============================] - 10s 425ms/step - loss: 0.6932 - accuracy: 0.4925 - val_loss: 0.6931 - val_accuracy: 0.4696\n",
            "Epoch 7/20\n",
            "24/24 [==============================] - 10s 437ms/step - loss: 0.6930 - accuracy: 0.5035 - val_loss: 0.6930 - val_accuracy: 0.5331\n",
            "Epoch 8/20\n",
            "24/24 [==============================] - 10s 433ms/step - loss: 0.6927 - accuracy: 0.4948 - val_loss: 0.6933 - val_accuracy: 0.4710\n",
            "Epoch 9/20\n",
            "24/24 [==============================] - 10s 430ms/step - loss: 0.6929 - accuracy: 0.5059 - val_loss: 0.6933 - val_accuracy: 0.4710\n",
            "Epoch 10/20\n",
            "24/24 [==============================] - 11s 439ms/step - loss: 0.6928 - accuracy: 0.5008 - val_loss: 0.6940 - val_accuracy: 0.4710\n",
            "Epoch 11/20\n",
            "24/24 [==============================] - 11s 440ms/step - loss: 0.6928 - accuracy: 0.5008 - val_loss: 0.6935 - val_accuracy: 0.4710\n",
            "Epoch 12/20\n",
            "24/24 [==============================] - 10s 435ms/step - loss: 0.6924 - accuracy: 0.5137 - val_loss: 0.6927 - val_accuracy: 0.5331\n",
            "Epoch 13/20\n",
            "24/24 [==============================] - 10s 424ms/step - loss: 0.6931 - accuracy: 0.4937 - val_loss: 0.6930 - val_accuracy: 0.4710\n",
            "Epoch 14/20\n",
            "24/24 [==============================] - 10s 425ms/step - loss: 0.6925 - accuracy: 0.5036 - val_loss: 0.6934 - val_accuracy: 0.4710\n",
            "Epoch 15/20\n",
            "24/24 [==============================] - 10s 428ms/step - loss: 0.6921 - accuracy: 0.5160 - val_loss: 0.6942 - val_accuracy: 0.4710\n",
            "Epoch 16/20\n",
            "24/24 [==============================] - 10s 429ms/step - loss: 0.6919 - accuracy: 0.4956 - val_loss: 0.6938 - val_accuracy: 0.4696\n",
            "Epoch 17/20\n",
            "24/24 [==============================] - 10s 433ms/step - loss: 0.6921 - accuracy: 0.4988 - val_loss: 0.6949 - val_accuracy: 0.4696\n",
            "Epoch 18/20\n",
            "24/24 [==============================] - 10s 432ms/step - loss: 0.6917 - accuracy: 0.5026 - val_loss: 0.6937 - val_accuracy: 0.4710\n",
            "Epoch 19/20\n",
            "24/24 [==============================] - 11s 440ms/step - loss: 0.6924 - accuracy: 0.4993 - val_loss: 0.6939 - val_accuracy: 0.4696\n",
            "Epoch 20/20\n",
            "24/24 [==============================] - 10s 427ms/step - loss: 0.6920 - accuracy: 0.4890 - val_loss: 0.6949 - val_accuracy: 0.4696\n"
          ],
          "name": "stdout"
        }
      ]
    },
    {
      "cell_type": "code",
      "metadata": {
        "colab": {
          "base_uri": "https://localhost:8080/"
        },
        "id": "hVM0DNXTp8HH",
        "outputId": "4465da92-8a4d-4dd0-8e51-db76b53a0e49"
      },
      "source": [
        "loss, accuracy = gru_model.evaluate(X_train, label_train, verbose=True)\n",
        "print(\"Training Accuracy: {:.4f}\".format(accuracy))\n",
        "loss_val, accuracy_val = gru_model.evaluate(X_test, label_test, verbose=True)\n",
        "print(\"Testing Accuracy:  {:.4f}\".format(accuracy_val))\n"
      ],
      "execution_count": null,
      "outputs": [
        {
          "output_type": "stream",
          "text": [
            "116/116 [==============================] - 6s 50ms/step - loss: 0.6921 - accuracy: 0.4991\n",
            "Training Accuracy: 0.4991\n",
            "50/50 [==============================] - 3s 52ms/step - loss: 0.6925 - accuracy: 0.5142\n",
            "Testing Accuracy:  0.5142\n"
          ],
          "name": "stdout"
        }
      ]
    },
    {
      "cell_type": "code",
      "metadata": {
        "colab": {
          "base_uri": "https://localhost:8080/",
          "height": 295
        },
        "id": "Gzl7JUaByfrF",
        "outputId": "81b9a3fe-c052-4a53-a7c8-444b8d0526ec"
      },
      "source": [
        "import matplotlib.pyplot as plt\n",
        "\n",
        "plt.plot(history.history['loss'])\n",
        "plt.plot(history.history['val_loss'])\n",
        "plt.title('model loss')\n",
        "plt.ylabel('loss')\n",
        "plt.xlabel('epoch')\n",
        "plt.legend(['train', 'test'], loc='upper left')\n",
        "plt.show()"
      ],
      "execution_count": null,
      "outputs": [
        {
          "output_type": "display_data",
          "data": {
            "image/png": "[encoded data removed]",
            "text/plain": [
              "<Figure size 432x288 with 1 Axes>"
            ]
          },
          "metadata": {
            "tags": [],
            "needs_background": "light"
          }
        }
      ]
    },
    {
      "cell_type": "code",
      "metadata": {
        "id": "_3oln0mQ9mQX"
      },
      "source": [
        "sample = 200\n",
        "test = pd.concat([data[data.polarity == 1].tail(sample), \n",
        "                        data[data.polarity == -1].tail(sample)])"
      ],
      "execution_count": null,
      "outputs": []
    },
    {
      "cell_type": "code",
      "metadata": {
        "id": "u1YjsqjD-c1S"
      },
      "source": [
        "X_t = test.cleaned_text.values\n",
        "Y_t = np.asarray(test.polarity.values).astype('float32')\n",
        "Y_t = Y_t.clip(0, 1)"
      ],
      "execution_count": null,
      "outputs": []
    },
    {
      "cell_type": "code",
      "metadata": {
        "id": "AetL9NNI-drF"
      },
      "source": [
        "X_t = tokenizer.texts_to_sequences(X_t)\n",
        "X_t = pad_sequences(X_t, padding='post', maxlen=maxlen)"
      ],
      "execution_count": null,
      "outputs": []
    },
    {
      "cell_type": "code",
      "metadata": {
        "colab": {
          "base_uri": "https://localhost:8080/"
        },
        "id": "QircQcRj-j6Q",
        "outputId": "50db5dae-9a52-430e-d09b-9b2b06e2f9cc"
      },
      "source": [
        "pred = cnn_model.predict(X_t, verbose=True)"
      ],
      "execution_count": null,
      "outputs": [
        {
          "output_type": "stream",
          "text": [
            "13/13 [==============================] - 0s 14ms/step\n"
          ],
          "name": "stdout"
        }
      ]
    },
    {
      "cell_type": "code",
      "metadata": {
        "colab": {
          "base_uri": "https://localhost:8080/"
        },
        "id": "1FEGXQVgE_nh",
        "outputId": "2ef848ca-561d-4e13-92a7-7f38d5abd28a"
      },
      "source": [
        "pred.shape"
      ],
      "execution_count": null,
      "outputs": [
        {
          "output_type": "execute_result",
          "data": {
            "text/plain": [
              "(400, 1)"
            ]
          },
          "metadata": {
            "tags": []
          },
          "execution_count": 41
        }
      ]
    },
    {
      "cell_type": "code",
      "metadata": {
        "id": "3q3xb_8p-mKJ"
      },
      "source": [
        "df_t = pd.DataFrame({'REAL': Y_t, \n",
        "                         'PRED': pred.reshape(pred.shape[0],), \n",
        "                         'TEXT': test.cleaned_text})\n",
        "df_t = df_t.reset_index()[['REAL', 'PRED', 'TEXT']]\n",
        "df_t.PRED = df_t.PRED.round()\n",
        "error_records = df_t[df_t.REAL != df_t.PRED]"
      ],
      "execution_count": null,
      "outputs": []
    },
    {
      "cell_type": "code",
      "metadata": {
        "colab": {
          "base_uri": "https://localhost:8080/",
          "height": 206
        },
        "id": "iefEzQSd4HSf",
        "outputId": "2fcbd635-a1c3-41a4-8c1f-7ca95c99baa5"
      },
      "source": [
        "df_t.sample(n=5)"
      ],
      "execution_count": null,
      "outputs": [
        {
          "output_type": "execute_result",
          "data": {
            "text/html": [
              "<div>\n",
              "<style scoped>\n",
              "    .dataframe tbody tr th:only-of-type {\n",
              "        vertical-align: middle;\n",
              "    }\n",
              "\n",
              "    .dataframe tbody tr th {\n",
              "        vertical-align: top;\n",
              "    }\n",
              "\n",
              "    .dataframe thead th {\n",
              "        text-align: right;\n",
              "    }\n",
              "</style>\n",
              "<table border=\"1\" class=\"dataframe\">\n",
              "  <thead>\n",
              "    <tr style=\"text-align: right;\">\n",
              "      <th></th>\n",
              "      <th>REAL</th>\n",
              "      <th>PRED</th>\n",
              "      <th>TEXT</th>\n",
              "    </tr>\n",
              "  </thead>\n",
              "  <tbody>\n",
              "    <tr>\n",
              "      <th>261</th>\n",
              "      <td>0.0</td>\n",
              "      <td>0.0</td>\n",
              "      <td>غرفه قذره ومكتب استقبال وقح وقد مكثنا هناك ليا...</td>\n",
              "    </tr>\n",
              "    <tr>\n",
              "      <th>80</th>\n",
              "      <td>1.0</td>\n",
              "      <td>0.0</td>\n",
              "      <td>سعيد زياره فندق ما للمره الاولي دائما ما يكون ...</td>\n",
              "    </tr>\n",
              "    <tr>\n",
              "      <th>245</th>\n",
              "      <td>0.0</td>\n",
              "      <td>0.0</td>\n",
              "      <td>ليله رهيبه بسبب زياره الامن في منتصف الليل هذا...</td>\n",
              "    </tr>\n",
              "    <tr>\n",
              "      <th>383</th>\n",
              "      <td>0.0</td>\n",
              "      <td>0.0</td>\n",
              "      <td>بحاجه الي تطوير كبير فريق العمل قاس للغايه وغي...</td>\n",
              "    </tr>\n",
              "    <tr>\n",
              "      <th>350</th>\n",
              "      <td>0.0</td>\n",
              "      <td>0.0</td>\n",
              "      <td>رفعوا السعر بمقدار ثلاثه اضعاف خلال ثلاث سنوات...</td>\n",
              "    </tr>\n",
              "  </tbody>\n",
              "</table>\n",
              "</div>"
            ],
            "text/plain": [
              "     REAL  PRED                                               TEXT\n",
              "261   0.0   0.0  غرفه قذره ومكتب استقبال وقح وقد مكثنا هناك ليا...\n",
              "80    1.0   0.0  سعيد زياره فندق ما للمره الاولي دائما ما يكون ...\n",
              "245   0.0   0.0  ليله رهيبه بسبب زياره الامن في منتصف الليل هذا...\n",
              "383   0.0   0.0  بحاجه الي تطوير كبير فريق العمل قاس للغايه وغي...\n",
              "350   0.0   0.0  رفعوا السعر بمقدار ثلاثه اضعاف خلال ثلاث سنوات..."
            ]
          },
          "metadata": {
            "tags": []
          },
          "execution_count": 45
        }
      ]
    },
    {
      "cell_type": "code",
      "metadata": {
        "id": "Y9Aj6IJq4HbV"
      },
      "source": [
        "test = [\n",
        "        'قال ابراهيم النقاش انه سعيد بتواجِده مع الذمامرة ',\n",
        "        'بانون يعاني من سوء التغدية',\n",
        "        'سعد الدين العثماني يلوح بالإستقالة في حالة إستمرار الضغوطات من داخل حزب المصباح',\n",
        "        'خروج مواطنة عن صمتهاقرار الحكومة المغربية سعد الدين العثماني يغضب المواطنين خسائر بشرية و مادية',\n",
        "        'إنها حكومة و نظام فاشل بكل المقاييس حان وقت التغيير',\n",
        "        'مهزلة كارثة بما في الكلمة من معنى حسبنا الله ونعم الوكيل تحياتي اخي العزيز العشابي',\n",
        "        'رحلتي الي دهب لم يخربها غير فندق باندا تم تحويل حجزي من فندق محترم الي فندق باندا لعدم وجود اماكن الاستقبال حوالي دقيقه للتسكين بالغرف الغرفه غير سيئه ولكن المكيف يسرب مياه علي السرير غرفه عند اخذ شاور المياه تخرج من البلاعه مصحوبه برائحه حمام السباحه جيد بالرغم من صغره حمامات الرسيبشن صغيره وغير نظيفه اللوبي صغير جدا اماكن انتظار السيارات تكفي سيارات منهم مكان لصاحب الفندق المطعم اشبه ما يكون بمطعم مدينه الطلبه الاماكن غير كافيه الطعام اقل من المتوسط كا نوعيه وكميات اكثر ما ضايقني في المطعم وجود ماللك الفندق واسره بالمطعم وتصرفاتهم كانت غير مرضيه من صوت عالي واستهزاء بالاخيرين وسوء معاملتهم للعاملين بالمطعم عموما من يريد اجازه سعيده يذهب الي فندق اخر'\n",
        "        \n",
        "]"
      ],
      "execution_count": null,
      "outputs": []
    },
    {
      "cell_type": "code",
      "metadata": {
        "id": "rNz4ngbB7_c2"
      },
      "source": [
        "testx = tokenizer.texts_to_sequences(test)\n"
      ],
      "execution_count": null,
      "outputs": []
    },
    {
      "cell_type": "code",
      "metadata": {
        "id": "RCpny5Y78PV8"
      },
      "source": [
        "testx = pad_sequences(testx, padding='post', maxlen=maxlen)\n"
      ],
      "execution_count": null,
      "outputs": []
    },
    {
      "cell_type": "code",
      "metadata": {
        "id": "ztQWMaoT1iie"
      },
      "source": [
        "pred = cnn_model.predict(testx)\n"
      ],
      "execution_count": null,
      "outputs": []
    },
    {
      "cell_type": "code",
      "metadata": {
        "id": "FYMystsG8oXq"
      },
      "source": [
        "#une fonction de prediction: \n",
        "def predict(pred):\n",
        "  for sent in pred[:3]:\n",
        "    if sent > 0.5:\n",
        "      print('positive')\n",
        "    else:\n",
        "      print('Negative')"
      ],
      "execution_count": null,
      "outputs": []
    },
    {
      "cell_type": "code",
      "metadata": {
        "id": "LxS4c-eH6qYi",
        "colab": {
          "base_uri": "https://localhost:8080/"
        },
        "outputId": "5a8a6211-81f3-4988-e658-5528cc455814"
      },
      "source": [
        "predict(pred)"
      ],
      "execution_count": null,
      "outputs": [
        {
          "output_type": "stream",
          "text": [
            "positive\n",
            "positive\n",
            "positive\n"
          ],
          "name": "stdout"
        }
      ]
    },
    {
      "cell_type": "code",
      "metadata": {
        "id": "3d0l-D8X5FGf"
      },
      "source": [
        "    text = 'الْحَمْدُ لِلَّهِ رَبِّ الْعَالَمِينَ'\n",
        "    tashkeel = re.compile(r'[\\u0617-\\u061A\\u064B-\\u0652]')\n",
        "    text = re.sub(tashkeel,\"\", text)"
      ],
      "execution_count": null,
      "outputs": []
    },
    {
      "cell_type": "code",
      "metadata": {
        "id": "uuI5Zm9yRFhi",
        "colab": {
          "base_uri": "https://localhost:8080/",
          "height": 36
        },
        "outputId": "4fe4f009-5792-4ccd-fa88-fc12cedca796"
      },
      "source": [
        "text"
      ],
      "execution_count": null,
      "outputs": [
        {
          "output_type": "execute_result",
          "data": {
            "application/vnd.google.colaboratory.intrinsic+json": {
              "type": "string"
            },
            "text/plain": [
              "'الحمد لله رب العالمين'"
            ]
          },
          "metadata": {
            "tags": []
          },
          "execution_count": 59
        }
      ]
    }
  ]
}